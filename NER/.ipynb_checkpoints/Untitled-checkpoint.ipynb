{
 "cells": [
  {
   "cell_type": "code",
   "execution_count": null,
   "id": "722aa914",
   "metadata": {},
   "outputs": [],
   "source": [
    "import spacy\n",
    "from spacy import displacy"
   ]
  },
  {
   "cell_type": "code",
   "execution_count": 11,
   "id": "a92d7712",
   "metadata": {},
   "outputs": [],
   "source": [
    "with open('case_example.txt', 'r') as file:\n",
    "    # Read the contents of the file\n",
    "    text = file.read()"
   ]
  },
  {
   "cell_type": "code",
   "execution_count": null,
   "id": "a42ab6ad",
   "metadata": {},
   "outputs": [],
   "source": [
    "text = \"This is Singapore\\b.\"\n",
    "nlp = spacy.load(\"en_core_web_trf\")\n",
    "doc = nlp(text)\n",
    "displacy.serve(doc, style=\"ent\")"
   ]
  },
  {
   "cell_type": "code",
   "execution_count": 14,
   "id": "df34169a",
   "metadata": {},
   "outputs": [],
   "source": [
    "# Path where you want to save the model\n",
    "output_dir = \"model\"\n",
    "\n",
    "# Save the model to the output directory\n",
    "nlp.to_disk(output_dir)"
   ]
  },
  {
   "cell_type": "code",
   "execution_count": null,
   "id": "d6b4f405",
   "metadata": {},
   "outputs": [],
   "source": []
  }
 ],
 "metadata": {
  "kernelspec": {
   "display_name": "Python 3 (ipykernel)",
   "language": "python",
   "name": "python3"
  },
  "language_info": {
   "codemirror_mode": {
    "name": "ipython",
    "version": 3
   },
   "file_extension": ".py",
   "mimetype": "text/x-python",
   "name": "python",
   "nbconvert_exporter": "python",
   "pygments_lexer": "ipython3",
   "version": "3.11.5"
  }
 },
 "nbformat": 4,
 "nbformat_minor": 5
}
