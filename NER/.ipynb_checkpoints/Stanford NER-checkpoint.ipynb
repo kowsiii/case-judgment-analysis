{
 "cells": [
  {
   "cell_type": "code",
   "execution_count": 2,
   "id": "fc977eb0",
   "metadata": {},
   "outputs": [
    {
     "data": {
      "application/vnd.jupyter.widget-view+json": {
       "model_id": "28b6727326064da79ba9cdaae3625e30",
       "version_major": 2,
       "version_minor": 0
      },
      "text/plain": [
       "Downloading https://raw.githubusercontent.com/stanfordnlp/stanza-resources/main/resources_1.8.0.json:   0%|   …"
      ]
     },
     "metadata": {},
     "output_type": "display_data"
    },
    {
     "name": "stderr",
     "output_type": "stream",
     "text": [
      "2024-04-09 03:30:21 INFO: Downloaded file to /Users/kowsalya/stanza_resources/resources.json\n",
      "2024-04-09 03:30:21 INFO: Downloading default packages for language: en (English) ...\n"
     ]
    },
    {
     "data": {
      "application/vnd.jupyter.widget-view+json": {
       "model_id": "97998550f92148619ffabf54f6c997db",
       "version_major": 2,
       "version_minor": 0
      },
      "text/plain": [
       "Downloading https://huggingface.co/stanfordnlp/stanza-en/resolve/v1.8.0/models/default.zip:   0%|          | 0…"
      ]
     },
     "metadata": {},
     "output_type": "display_data"
    },
    {
     "name": "stderr",
     "output_type": "stream",
     "text": [
      "2024-04-09 03:30:33 INFO: Downloaded file to /Users/kowsalya/stanza_resources/en/default.zip\n",
      "2024-04-09 03:30:41 INFO: Finished downloading models and saved to /Users/kowsalya/stanza_resources\n"
     ]
    }
   ],
   "source": [
    "import stanza\n",
    "\n",
    "# Download the English model with NER\n",
    "stanza.download('en')"
   ]
  },
  {
   "cell_type": "code",
   "execution_count": 1,
   "id": "b0c90ceb",
   "metadata": {},
   "outputs": [],
   "source": [
    "import json\n",
    "\n",
    "# Path to your .jsonl file\n",
    "file_path = '/Users/kowsalya/Downloads/admin.jsonl'\n",
    "\n",
    "data_list = []\n",
    "\n",
    "# Read the first line of the file\n",
    "with open(file_path, 'r') as file:\n",
    "    for line in file:  # This iterates over each line until the end of the file\n",
    "        line = line.strip()\n",
    "        if line:  # Check if line is not empty\n",
    "            line_data = json.loads(line) # Parse the JSON content\n",
    "            data_list.append(line_data)"
   ]
  },
  {
   "cell_type": "code",
   "execution_count": 2,
   "id": "492fd611",
   "metadata": {},
   "outputs": [],
   "source": [
    "# Function to accurately map entity spans and convert data to CoNLL format\n",
    "def convert_to_conll(data):\n",
    "    text = data[\"text\"]\n",
    "    entities = sorted(data[\"label\"], key=lambda x: x[0])  # Ensure entities are processed in order\n",
    "    \n",
    "    # Tokenize the text and calculate start and end positions for each token\n",
    "    tokens = text.split()\n",
    "    token_positions = []\n",
    "    offset = 0\n",
    "    for token in tokens:\n",
    "        start = text.index(token, offset)\n",
    "        end = start + len(token)\n",
    "        token_positions.append((start, end))\n",
    "        offset = end\n",
    "    \n",
    "    conll_lines = []\n",
    "    entity_idx = 0  # To keep track of which entity we are in\n",
    "    for start, end in token_positions:\n",
    "        token_label = \"O\"  # Default label\n",
    "        \n",
    "        # Adjust entity end index to not include trailing spaces\n",
    "        while entity_idx < len(entities) and entities[entity_idx][1] <= start:\n",
    "            entity_idx += 1  # Move to the next entity if we've passed the current one\n",
    "        \n",
    "        if entity_idx < len(entities):\n",
    "            entity_start, entity_end, entity_type = entities[entity_idx]\n",
    "            entity_end -= 1  # Adjust to exclude space by reducing the end index by 1\n",
    "            \n",
    "            if entity_start <= start <= entity_end:\n",
    "                if start == entity_start:\n",
    "                    token_label = f\"B-{entity_type}\"\n",
    "                else:\n",
    "                    token_label = f\"I-{entity_type}\"\n",
    "        \n",
    "        token = text[start:end]  # Extract token text using its start and end positions\n",
    "        conll_lines.append(f\"{token} {token_label}\")\n",
    "    \n",
    "    return \"\\n\".join(conll_lines)"
   ]
  },
  {
   "cell_type": "code",
   "execution_count": 3,
   "id": "504c40b5",
   "metadata": {},
   "outputs": [
    {
     "ename": "OSError",
     "evalue": "[Errno 30] Read-only file system: '/conll'",
     "output_type": "error",
     "traceback": [
      "\u001b[0;31m---------------------------------------------------------------------------\u001b[0m",
      "\u001b[0;31mOSError\u001b[0m                                   Traceback (most recent call last)",
      "Cell \u001b[0;32mIn[3], line 15\u001b[0m\n\u001b[1;32m     12\u001b[0m dev_folder \u001b[38;5;241m=\u001b[39m \u001b[38;5;124m'\u001b[39m\u001b[38;5;124m/conll/dev\u001b[39m\u001b[38;5;124m'\u001b[39m\n\u001b[1;32m     14\u001b[0m \u001b[38;5;66;03m# Ensure the folders exist\u001b[39;00m\n\u001b[0;32m---> 15\u001b[0m os\u001b[38;5;241m.\u001b[39mmakedirs(train_folder, exist_ok\u001b[38;5;241m=\u001b[39m\u001b[38;5;28;01mTrue\u001b[39;00m)\n\u001b[1;32m     16\u001b[0m os\u001b[38;5;241m.\u001b[39mmakedirs(test_folder, exist_ok\u001b[38;5;241m=\u001b[39m\u001b[38;5;28;01mTrue\u001b[39;00m)\n\u001b[1;32m     17\u001b[0m os\u001b[38;5;241m.\u001b[39mmakedirs(dev_folder, exist_ok\u001b[38;5;241m=\u001b[39m\u001b[38;5;28;01mTrue\u001b[39;00m)\n",
      "File \u001b[0;32m<frozen os>:215\u001b[0m, in \u001b[0;36mmakedirs\u001b[0;34m(name, mode, exist_ok)\u001b[0m\n",
      "File \u001b[0;32m<frozen os>:225\u001b[0m, in \u001b[0;36mmakedirs\u001b[0;34m(name, mode, exist_ok)\u001b[0m\n",
      "\u001b[0;31mOSError\u001b[0m: [Errno 30] Read-only file system: '/conll'"
     ]
    }
   ],
   "source": [
    "import os\n",
    "import json\n",
    "\n",
    "# Assuming your convert_to_conll function is defined here\n",
    "\n",
    "# Path to your .jsonl file\n",
    "file_path = '/Users/kowsalya/Downloads/admin.jsonl'\n",
    "\n",
    "# Folder paths\n",
    "train_folder = '/conll/train'\n",
    "test_folder = '/conll/test'\n",
    "dev_folder = '/conll/dev'\n",
    "\n",
    "# Ensure the folders exist\n",
    "os.makedirs(train_folder, exist_ok=True)\n",
    "os.makedirs(test_folder, exist_ok=True)\n",
    "os.makedirs(dev_folder, exist_ok=True)\n",
    "\n",
    "\n",
    "# Distribute documents\n",
    "train_docs = data_list[:6]\n",
    "test_docs = data_list[6:8]\n",
    "dev_docs = data_list[8:]\n",
    "\n",
    "# Function to save documents in CoNLL format\n",
    "def save_docs_in_conll(docs, folder):\n",
    "    for idx, doc in enumerate(docs):\n",
    "        conll_text = convert_to_conll(doc)  # Assuming this function exists and works correctly\n",
    "        file_path = os.path.join(folder, f\"doc_{idx}.conll\")\n",
    "        with open(file_path, 'w') as file:\n",
    "            file.write(conll_text)\n",
    "\n",
    "# Save documents in respective folders\n",
    "save_docs_in_conll(train_docs, train_folder)\n",
    "save_docs_in_conll(test_docs, test_folder)\n",
    "save_docs_in_conll(dev_docs, dev_folder)\n"
   ]
  },
  {
   "cell_type": "code",
   "execution_count": null,
   "id": "91ab04e6",
   "metadata": {},
   "outputs": [],
   "source": []
  },
  {
   "cell_type": "code",
   "execution_count": null,
   "id": "525bc3cd",
   "metadata": {},
   "outputs": [],
   "source": [
    "from stanza.models import ner\n",
    "\n",
    "# Replace 'path_to_training_data', 'path_to_dev_data', and 'path_to_output' with your paths\n",
    "ner.train_model(lang='en', \n",
    "                train_file='path_to_training_data', \n",
    "                dev_file='path_to_dev_data', \n",
    "                save_dir='path_to_output', \n",
    "                batch_size=32, \n",
    "                epochs=50, \n",
    "                learning_rate=1e-3)\n"
   ]
  },
  {
   "cell_type": "code",
   "execution_count": null,
   "id": "e6c6ffb0",
   "metadata": {},
   "outputs": [],
   "source": [
    "# Loading the trained NER model\n",
    "nlp = stanza.Pipeline(lang='en', processors={'ner': {'model_path': 'path_to_your_trained_model'}})\n",
    "\n",
    "# Processing a new text\n",
    "doc = nlp(\"Stanford University is located in California.\")\n",
    "for ent in doc.entities:\n",
    "    print(ent.text, ent.type)\n"
   ]
  }
 ],
 "metadata": {
  "kernelspec": {
   "display_name": "Python 3 (ipykernel)",
   "language": "python",
   "name": "python3"
  },
  "language_info": {
   "codemirror_mode": {
    "name": "ipython",
    "version": 3
   },
   "file_extension": ".py",
   "mimetype": "text/x-python",
   "name": "python",
   "nbconvert_exporter": "python",
   "pygments_lexer": "ipython3",
   "version": "3.11.5"
  }
 },
 "nbformat": 4,
 "nbformat_minor": 5
}
