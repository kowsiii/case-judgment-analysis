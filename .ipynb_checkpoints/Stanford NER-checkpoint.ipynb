{
 "cells": [
  {
   "cell_type": "code",
   "execution_count": 2,
   "id": "fc977eb0",
   "metadata": {},
   "outputs": [
    {
     "data": {
      "application/vnd.jupyter.widget-view+json": {
       "model_id": "28b6727326064da79ba9cdaae3625e30",
       "version_major": 2,
       "version_minor": 0
      },
      "text/plain": [
       "Downloading https://raw.githubusercontent.com/stanfordnlp/stanza-resources/main/resources_1.8.0.json:   0%|   …"
      ]
     },
     "metadata": {},
     "output_type": "display_data"
    },
    {
     "name": "stderr",
     "output_type": "stream",
     "text": [
      "2024-04-09 03:30:21 INFO: Downloaded file to /Users/kowsalya/stanza_resources/resources.json\n",
      "2024-04-09 03:30:21 INFO: Downloading default packages for language: en (English) ...\n"
     ]
    },
    {
     "data": {
      "application/vnd.jupyter.widget-view+json": {
       "model_id": "97998550f92148619ffabf54f6c997db",
       "version_major": 2,
       "version_minor": 0
      },
      "text/plain": [
       "Downloading https://huggingface.co/stanfordnlp/stanza-en/resolve/v1.8.0/models/default.zip:   0%|          | 0…"
      ]
     },
     "metadata": {},
     "output_type": "display_data"
    },
    {
     "name": "stderr",
     "output_type": "stream",
     "text": [
      "2024-04-09 03:30:33 INFO: Downloaded file to /Users/kowsalya/stanza_resources/en/default.zip\n",
      "2024-04-09 03:30:41 INFO: Finished downloading models and saved to /Users/kowsalya/stanza_resources\n"
     ]
    }
   ],
   "source": [
    "import stanza\n",
    "\n",
    "# Download the English model with NER\n",
    "stanza.download('en')"
   ]
  },
  {
   "cell_type": "code",
   "execution_count": 13,
   "id": "b0c90ceb",
   "metadata": {},
   "outputs": [],
   "source": [
    "import json\n",
    "\n",
    "# Path to your .jsonl file\n",
    "file_path = '/Users/kowsalya/Downloads/admin.jsonl'\n",
    "\n",
    "data_list = []\n",
    "\n",
    "# Read the first line of the file\n",
    "with open(file_path, 'r') as file:\n",
    "    for line in file:  # This iterates over each line until the end of the file\n",
    "        line = line.strip()\n",
    "        if line:  # Check if line is not empty\n",
    "            line_data = json.loads(line) # Parse the JSON content\n",
    "            data_list.append(line_data)"
   ]
  },
  {
   "cell_type": "code",
   "execution_count": 15,
   "id": "492fd611",
   "metadata": {},
   "outputs": [],
   "source": [
    "# Function to accurately map entity spans and convert data to CoNLL format\n",
    "def convert_to_conll(data):\n",
    "    text = data[\"text\"]\n",
    "    entities = sorted(data[\"label\"], key=lambda x: x[0])  # Ensure entities are processed in order\n",
    "    \n",
    "    # Tokenize the text and calculate start and end positions for each token\n",
    "    tokens = text.split()\n",
    "    token_positions = []\n",
    "    offset = 0\n",
    "    for token in tokens:\n",
    "        start = text.index(token, offset)\n",
    "        end = start + len(token)\n",
    "        token_positions.append((start, end))\n",
    "        offset = end\n",
    "    \n",
    "    conll_lines = []\n",
    "    entity_idx = 0  # To keep track of which entity we are in\n",
    "    for start, end in token_positions:\n",
    "        token_label = \"O\"  # Default label\n",
    "        \n",
    "        # Adjust entity end index to not include trailing spaces\n",
    "        while entity_idx < len(entities) and entities[entity_idx][1] <= start:\n",
    "            entity_idx += 1  # Move to the next entity if we've passed the current one\n",
    "        \n",
    "        if entity_idx < len(entities):\n",
    "            entity_start, entity_end, entity_type = entities[entity_idx]\n",
    "            entity_end -= 1  # Adjust to exclude space by reducing the end index by 1\n",
    "            \n",
    "            if entity_start <= start <= entity_end:\n",
    "                if start == entity_start:\n",
    "                    token_label = f\"B-{entity_type}\"\n",
    "                else:\n",
    "                    token_label = f\"I-{entity_type}\"\n",
    "        \n",
    "        token = text[start:end]  # Extract token text using its start and end positions\n",
    "        conll_lines.append(f\"{token} {token_label}\")\n",
    "    \n",
    "    return \"\\n\".join(conll_lines)"
   ]
  },
  {
   "cell_type": "code",
   "execution_count": null,
   "id": "504c40b5",
   "metadata": {},
   "outputs": [],
   "source": [
    "for da"
   ]
  },
  {
   "cell_type": "code",
   "execution_count": null,
   "id": "525bc3cd",
   "metadata": {},
   "outputs": [],
   "source": [
    "from stanza.models import ner\n",
    "\n",
    "# Replace 'path_to_training_data', 'path_to_dev_data', and 'path_to_output' with your paths\n",
    "ner.train_model(lang='en', \n",
    "                train_file='path_to_training_data', \n",
    "                dev_file='path_to_dev_data', \n",
    "                save_dir='path_to_output', \n",
    "                batch_size=32, \n",
    "                epochs=50, \n",
    "                learning_rate=1e-3)\n"
   ]
  },
  {
   "cell_type": "code",
   "execution_count": null,
   "id": "e6c6ffb0",
   "metadata": {},
   "outputs": [],
   "source": [
    "# Loading the trained NER model\n",
    "nlp = stanza.Pipeline(lang='en', processors={'ner': {'model_path': 'path_to_your_trained_model'}})\n",
    "\n",
    "# Processing a new text\n",
    "doc = nlp(\"Stanford University is located in California.\")\n",
    "for ent in doc.entities:\n",
    "    print(ent.text, ent.type)\n"
   ]
  }
 ],
 "metadata": {
  "kernelspec": {
   "display_name": "Python 3 (ipykernel)",
   "language": "python",
   "name": "python3"
  },
  "language_info": {
   "codemirror_mode": {
    "name": "ipython",
    "version": 3
   },
   "file_extension": ".py",
   "mimetype": "text/x-python",
   "name": "python",
   "nbconvert_exporter": "python",
   "pygments_lexer": "ipython3",
   "version": "3.11.5"
  }
 },
 "nbformat": 4,
 "nbformat_minor": 5
}
