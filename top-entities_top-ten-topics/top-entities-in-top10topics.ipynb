{
 "cells": [
  {
   "cell_type": "code",
   "execution_count": 1,
   "metadata": {},
   "outputs": [
    {
     "name": "stdout",
     "output_type": "stream",
     "text": [
      "Requirement already satisfied: spacy in /opt/homebrew/lib/python3.11/site-packages (3.7.4)\n",
      "Requirement already satisfied: spacy-legacy<3.1.0,>=3.0.11 in /opt/homebrew/lib/python3.11/site-packages (from spacy) (3.0.12)\n",
      "Requirement already satisfied: spacy-loggers<2.0.0,>=1.0.0 in /opt/homebrew/lib/python3.11/site-packages (from spacy) (1.0.5)\n",
      "Requirement already satisfied: murmurhash<1.1.0,>=0.28.0 in /opt/homebrew/lib/python3.11/site-packages (from spacy) (1.0.10)\n",
      "Requirement already satisfied: cymem<2.1.0,>=2.0.2 in /opt/homebrew/lib/python3.11/site-packages (from spacy) (2.0.8)\n",
      "Requirement already satisfied: preshed<3.1.0,>=3.0.2 in /opt/homebrew/lib/python3.11/site-packages (from spacy) (3.0.9)\n",
      "Requirement already satisfied: thinc<8.3.0,>=8.2.2 in /opt/homebrew/lib/python3.11/site-packages (from spacy) (8.2.3)\n",
      "Requirement already satisfied: wasabi<1.2.0,>=0.9.1 in /opt/homebrew/lib/python3.11/site-packages (from spacy) (1.1.2)\n",
      "Requirement already satisfied: srsly<3.0.0,>=2.4.3 in /opt/homebrew/lib/python3.11/site-packages (from spacy) (2.4.8)\n",
      "Requirement already satisfied: catalogue<2.1.0,>=2.0.6 in /opt/homebrew/lib/python3.11/site-packages (from spacy) (2.0.10)\n",
      "Requirement already satisfied: weasel<0.4.0,>=0.1.0 in /opt/homebrew/lib/python3.11/site-packages (from spacy) (0.3.4)\n",
      "Requirement already satisfied: typer<0.10.0,>=0.3.0 in /opt/homebrew/lib/python3.11/site-packages (from spacy) (0.9.4)\n",
      "Requirement already satisfied: smart-open<7.0.0,>=5.2.1 in /opt/homebrew/lib/python3.11/site-packages (from spacy) (6.4.0)\n",
      "Requirement already satisfied: tqdm<5.0.0,>=4.38.0 in /opt/homebrew/lib/python3.11/site-packages (from spacy) (4.66.2)\n",
      "Requirement already satisfied: requests<3.0.0,>=2.13.0 in /opt/homebrew/lib/python3.11/site-packages (from spacy) (2.31.0)\n",
      "Requirement already satisfied: pydantic!=1.8,!=1.8.1,<3.0.0,>=1.7.4 in /opt/homebrew/lib/python3.11/site-packages (from spacy) (2.6.4)\n",
      "Requirement already satisfied: jinja2 in /opt/homebrew/lib/python3.11/site-packages (from spacy) (3.1.3)\n",
      "Requirement already satisfied: setuptools in /opt/homebrew/lib/python3.11/site-packages (from spacy) (69.1.0)\n",
      "Requirement already satisfied: packaging>=20.0 in /Users/jiayi.lee/Library/Python/3.11/lib/python/site-packages (from spacy) (23.2)\n",
      "Requirement already satisfied: langcodes<4.0.0,>=3.2.0 in /opt/homebrew/lib/python3.11/site-packages (from spacy) (3.3.0)\n",
      "Requirement already satisfied: numpy>=1.19.0 in /opt/homebrew/lib/python3.11/site-packages (from spacy) (1.26.4)\n",
      "Requirement already satisfied: annotated-types>=0.4.0 in /opt/homebrew/lib/python3.11/site-packages (from pydantic!=1.8,!=1.8.1,<3.0.0,>=1.7.4->spacy) (0.6.0)\n",
      "Requirement already satisfied: pydantic-core==2.16.3 in /opt/homebrew/lib/python3.11/site-packages (from pydantic!=1.8,!=1.8.1,<3.0.0,>=1.7.4->spacy) (2.16.3)\n",
      "Requirement already satisfied: typing-extensions>=4.6.1 in /opt/homebrew/lib/python3.11/site-packages (from pydantic!=1.8,!=1.8.1,<3.0.0,>=1.7.4->spacy) (4.10.0)\n",
      "Requirement already satisfied: charset-normalizer<4,>=2 in /opt/homebrew/lib/python3.11/site-packages (from requests<3.0.0,>=2.13.0->spacy) (3.3.2)\n",
      "Requirement already satisfied: idna<4,>=2.5 in /opt/homebrew/lib/python3.11/site-packages (from requests<3.0.0,>=2.13.0->spacy) (3.6)\n",
      "Requirement already satisfied: urllib3<3,>=1.21.1 in /opt/homebrew/lib/python3.11/site-packages (from requests<3.0.0,>=2.13.0->spacy) (2.2.1)\n",
      "Requirement already satisfied: certifi>=2017.4.17 in /opt/homebrew/lib/python3.11/site-packages (from requests<3.0.0,>=2.13.0->spacy) (2024.2.2)\n",
      "Requirement already satisfied: blis<0.8.0,>=0.7.8 in /opt/homebrew/lib/python3.11/site-packages (from thinc<8.3.0,>=8.2.2->spacy) (0.7.11)\n",
      "Requirement already satisfied: confection<1.0.0,>=0.0.1 in /opt/homebrew/lib/python3.11/site-packages (from thinc<8.3.0,>=8.2.2->spacy) (0.1.4)\n",
      "Requirement already satisfied: click<9.0.0,>=7.1.1 in /opt/homebrew/lib/python3.11/site-packages (from typer<0.10.0,>=0.3.0->spacy) (8.1.7)\n",
      "Requirement already satisfied: cloudpathlib<0.17.0,>=0.7.0 in /opt/homebrew/lib/python3.11/site-packages (from weasel<0.4.0,>=0.1.0->spacy) (0.16.0)\n",
      "Requirement already satisfied: MarkupSafe>=2.0 in /opt/homebrew/lib/python3.11/site-packages (from jinja2->spacy) (2.1.5)\n",
      "Note: you may need to restart the kernel to use updated packages.\n"
     ]
    }
   ],
   "source": [
    "pip install -U spacy\n"
   ]
  },
  {
   "cell_type": "code",
   "execution_count": 2,
   "metadata": {},
   "outputs": [
    {
     "name": "stdout",
     "output_type": "stream",
     "text": [
      "Requirement already satisfied: transformers in /opt/homebrew/lib/python3.11/site-packages (4.36.2)\n",
      "Requirement already satisfied: spacy-transformers in /opt/homebrew/lib/python3.11/site-packages (1.3.4)\n",
      "Requirement already satisfied: filelock in /opt/homebrew/lib/python3.11/site-packages (from transformers) (3.13.1)\n",
      "Requirement already satisfied: huggingface-hub<1.0,>=0.19.3 in /opt/homebrew/lib/python3.11/site-packages (from transformers) (0.21.4)\n",
      "Requirement already satisfied: numpy>=1.17 in /opt/homebrew/lib/python3.11/site-packages (from transformers) (1.26.4)\n",
      "Requirement already satisfied: packaging>=20.0 in /Users/jiayi.lee/Library/Python/3.11/lib/python/site-packages (from transformers) (23.2)\n",
      "Requirement already satisfied: pyyaml>=5.1 in /opt/homebrew/lib/python3.11/site-packages (from transformers) (6.0.1)\n",
      "Requirement already satisfied: regex!=2019.12.17 in /opt/homebrew/lib/python3.11/site-packages (from transformers) (2023.12.25)\n",
      "Requirement already satisfied: requests in /opt/homebrew/lib/python3.11/site-packages (from transformers) (2.31.0)\n",
      "Requirement already satisfied: tokenizers<0.19,>=0.14 in /opt/homebrew/lib/python3.11/site-packages (from transformers) (0.15.2)\n",
      "Requirement already satisfied: safetensors>=0.3.1 in /opt/homebrew/lib/python3.11/site-packages (from transformers) (0.4.2)\n",
      "Requirement already satisfied: tqdm>=4.27 in /opt/homebrew/lib/python3.11/site-packages (from transformers) (4.66.2)\n",
      "Requirement already satisfied: spacy<4.0.0,>=3.5.0 in /opt/homebrew/lib/python3.11/site-packages (from spacy-transformers) (3.7.4)\n",
      "Requirement already satisfied: torch>=1.8.0 in /opt/homebrew/lib/python3.11/site-packages (from spacy-transformers) (2.2.1)\n",
      "Requirement already satisfied: srsly<3.0.0,>=2.4.0 in /opt/homebrew/lib/python3.11/site-packages (from spacy-transformers) (2.4.8)\n",
      "Requirement already satisfied: spacy-alignments<1.0.0,>=0.7.2 in /opt/homebrew/lib/python3.11/site-packages (from spacy-transformers) (0.9.1)\n",
      "Requirement already satisfied: fsspec>=2023.5.0 in /opt/homebrew/lib/python3.11/site-packages (from huggingface-hub<1.0,>=0.19.3->transformers) (2024.2.0)\n",
      "Requirement already satisfied: typing-extensions>=3.7.4.3 in /opt/homebrew/lib/python3.11/site-packages (from huggingface-hub<1.0,>=0.19.3->transformers) (4.10.0)\n",
      "Requirement already satisfied: spacy-legacy<3.1.0,>=3.0.11 in /opt/homebrew/lib/python3.11/site-packages (from spacy<4.0.0,>=3.5.0->spacy-transformers) (3.0.12)\n",
      "Requirement already satisfied: spacy-loggers<2.0.0,>=1.0.0 in /opt/homebrew/lib/python3.11/site-packages (from spacy<4.0.0,>=3.5.0->spacy-transformers) (1.0.5)\n",
      "Requirement already satisfied: murmurhash<1.1.0,>=0.28.0 in /opt/homebrew/lib/python3.11/site-packages (from spacy<4.0.0,>=3.5.0->spacy-transformers) (1.0.10)\n",
      "Requirement already satisfied: cymem<2.1.0,>=2.0.2 in /opt/homebrew/lib/python3.11/site-packages (from spacy<4.0.0,>=3.5.0->spacy-transformers) (2.0.8)\n",
      "Requirement already satisfied: preshed<3.1.0,>=3.0.2 in /opt/homebrew/lib/python3.11/site-packages (from spacy<4.0.0,>=3.5.0->spacy-transformers) (3.0.9)\n",
      "Requirement already satisfied: thinc<8.3.0,>=8.2.2 in /opt/homebrew/lib/python3.11/site-packages (from spacy<4.0.0,>=3.5.0->spacy-transformers) (8.2.3)\n",
      "Requirement already satisfied: wasabi<1.2.0,>=0.9.1 in /opt/homebrew/lib/python3.11/site-packages (from spacy<4.0.0,>=3.5.0->spacy-transformers) (1.1.2)\n",
      "Requirement already satisfied: catalogue<2.1.0,>=2.0.6 in /opt/homebrew/lib/python3.11/site-packages (from spacy<4.0.0,>=3.5.0->spacy-transformers) (2.0.10)\n",
      "Requirement already satisfied: weasel<0.4.0,>=0.1.0 in /opt/homebrew/lib/python3.11/site-packages (from spacy<4.0.0,>=3.5.0->spacy-transformers) (0.3.4)\n",
      "Requirement already satisfied: typer<0.10.0,>=0.3.0 in /opt/homebrew/lib/python3.11/site-packages (from spacy<4.0.0,>=3.5.0->spacy-transformers) (0.9.4)\n",
      "Requirement already satisfied: smart-open<7.0.0,>=5.2.1 in /opt/homebrew/lib/python3.11/site-packages (from spacy<4.0.0,>=3.5.0->spacy-transformers) (6.4.0)\n",
      "Requirement already satisfied: pydantic!=1.8,!=1.8.1,<3.0.0,>=1.7.4 in /opt/homebrew/lib/python3.11/site-packages (from spacy<4.0.0,>=3.5.0->spacy-transformers) (2.6.4)\n",
      "Requirement already satisfied: jinja2 in /opt/homebrew/lib/python3.11/site-packages (from spacy<4.0.0,>=3.5.0->spacy-transformers) (3.1.3)\n",
      "Requirement already satisfied: setuptools in /opt/homebrew/lib/python3.11/site-packages (from spacy<4.0.0,>=3.5.0->spacy-transformers) (69.1.0)\n",
      "Requirement already satisfied: langcodes<4.0.0,>=3.2.0 in /opt/homebrew/lib/python3.11/site-packages (from spacy<4.0.0,>=3.5.0->spacy-transformers) (3.3.0)\n",
      "Requirement already satisfied: charset-normalizer<4,>=2 in /opt/homebrew/lib/python3.11/site-packages (from requests->transformers) (3.3.2)\n",
      "Requirement already satisfied: idna<4,>=2.5 in /opt/homebrew/lib/python3.11/site-packages (from requests->transformers) (3.6)\n",
      "Requirement already satisfied: urllib3<3,>=1.21.1 in /opt/homebrew/lib/python3.11/site-packages (from requests->transformers) (2.2.1)\n",
      "Requirement already satisfied: certifi>=2017.4.17 in /opt/homebrew/lib/python3.11/site-packages (from requests->transformers) (2024.2.2)\n",
      "Requirement already satisfied: sympy in /opt/homebrew/lib/python3.11/site-packages (from torch>=1.8.0->spacy-transformers) (1.12)\n",
      "Requirement already satisfied: networkx in /opt/homebrew/lib/python3.11/site-packages (from torch>=1.8.0->spacy-transformers) (3.2.1)\n",
      "Requirement already satisfied: annotated-types>=0.4.0 in /opt/homebrew/lib/python3.11/site-packages (from pydantic!=1.8,!=1.8.1,<3.0.0,>=1.7.4->spacy<4.0.0,>=3.5.0->spacy-transformers) (0.6.0)\n",
      "Requirement already satisfied: pydantic-core==2.16.3 in /opt/homebrew/lib/python3.11/site-packages (from pydantic!=1.8,!=1.8.1,<3.0.0,>=1.7.4->spacy<4.0.0,>=3.5.0->spacy-transformers) (2.16.3)\n",
      "Requirement already satisfied: blis<0.8.0,>=0.7.8 in /opt/homebrew/lib/python3.11/site-packages (from thinc<8.3.0,>=8.2.2->spacy<4.0.0,>=3.5.0->spacy-transformers) (0.7.11)\n",
      "Requirement already satisfied: confection<1.0.0,>=0.0.1 in /opt/homebrew/lib/python3.11/site-packages (from thinc<8.3.0,>=8.2.2->spacy<4.0.0,>=3.5.0->spacy-transformers) (0.1.4)\n",
      "Requirement already satisfied: click<9.0.0,>=7.1.1 in /opt/homebrew/lib/python3.11/site-packages (from typer<0.10.0,>=0.3.0->spacy<4.0.0,>=3.5.0->spacy-transformers) (8.1.7)\n",
      "Requirement already satisfied: cloudpathlib<0.17.0,>=0.7.0 in /opt/homebrew/lib/python3.11/site-packages (from weasel<0.4.0,>=0.1.0->spacy<4.0.0,>=3.5.0->spacy-transformers) (0.16.0)\n",
      "Requirement already satisfied: MarkupSafe>=2.0 in /opt/homebrew/lib/python3.11/site-packages (from jinja2->spacy<4.0.0,>=3.5.0->spacy-transformers) (2.1.5)\n",
      "Requirement already satisfied: mpmath>=0.19 in /opt/homebrew/lib/python3.11/site-packages (from sympy->torch>=1.8.0->spacy-transformers) (1.3.0)\n",
      "Note: you may need to restart the kernel to use updated packages.\n"
     ]
    }
   ],
   "source": [
    "pip install transformers spacy-transformers\n"
   ]
  },
  {
   "cell_type": "markdown",
   "metadata": {},
   "source": [
    "Retrieve top ten topics"
   ]
  },
  {
   "cell_type": "code",
   "execution_count": 1,
   "metadata": {},
   "outputs": [
    {
     "name": "stdout",
     "output_type": "stream",
     "text": [
      "['High Court Judgments and Appeals', 'Legal Parties and Applications', 'Defendant Evidence and Legal Claims', 'Court Evidence and Defendant Cases', 'Defendant Charges and Legal Applications', 'Appeals and Defendant Claims', 'Legal Applications and Arbitration', 'Legal Rights and Court Issues', 'Court Agreements and Plaintiff Claims', 'Court Decisions and Company Matters']\n"
     ]
    }
   ],
   "source": [
    "\n",
    "import json\n",
    "\n",
    "# Open the JSON file and load it into a variable\n",
    "with open('topic_distribution_test.json', 'r') as file:\n",
    "    topic_distribution = json.load(file)\n",
    "\n",
    "# Sort the dictionary by values (topic scores) in descending order\n",
    "sorted_topics = sorted(topic_distribution.items(), key=lambda x: x[1], reverse=True)\n",
    "\n",
    "# Get the top 10 topics\n",
    "top_ten_topics = [topic for topic, value in sorted_topics[:10]]\n",
    "\n",
    "print(top_ten_topics)"
   ]
  },
  {
   "cell_type": "markdown",
   "metadata": {},
   "source": [
    "Load document-topic assignment"
   ]
  },
  {
   "cell_type": "code",
   "execution_count": 4,
   "metadata": {},
   "outputs": [
    {
     "name": "stdout",
     "output_type": "stream",
     "text": [
      "High Court Judgments and Appeals: ['Document 1', 'Document 26', 'Document 49', 'Document 58', 'Document 76', 'Document 90', 'Document 92', 'Document 111', 'Document 113', 'Document 129', 'Document 130', 'Document 131', 'Document 137', 'Document 160', 'Document 161', 'Document 164', 'Document 174', 'Document 182', 'Document 196', 'Document 239', 'Document 269', 'Document 290', 'Document 291', 'Document 294', 'Document 298', 'Document 304', 'Document 315', 'Document 334', 'Document 378', 'Document 394', 'Document 395', 'Document 413', 'Document 414', 'Document 416', 'Document 417', 'Document 424', 'Document 432', 'Document 449', 'Document 462', 'Document 475', 'Document 476', 'Document 489', 'Document 492', 'Document 502', 'Document 505', 'Document 515', 'Document 523', 'Document 536', 'Document 554', 'Document 562', 'Document 572', 'Document 589', 'Document 590', 'Document 597', 'Document 609', 'Document 611', 'Document 617', 'Document 621', 'Document 630', 'Document 651', 'Document 659', 'Document 672', 'Document 687', 'Document 699', 'Document 707', 'Document 708', 'Document 719', 'Document 728', 'Document 740', 'Document 741', 'Document 744', 'Document 752', 'Document 758', 'Document 784', 'Document 802', 'Document 808', 'Document 823', 'Document 835', 'Document 838', 'Document 845', 'Document 851', 'Document 865', 'Document 883', 'Document 884', 'Document 886', 'Document 887', 'Document 889', 'Document 890', 'Document 892', 'Document 896', 'Document 898', 'Document 899', 'Document 914', 'Document 929', 'Document 953', 'Document 962', 'Document 970', 'Document 979', 'Document 1000', 'Document 1005', 'Document 1011', 'Document 1012', 'Document 1018', 'Document 1038', 'Document 1059', 'Document 1060', 'Document 1069', 'Document 1070', 'Document 1073', 'Document 1076', 'Document 1078', 'Document 1079', 'Document 1082', 'Document 1106', 'Document 1118', 'Document 1124', 'Document 1144', 'Document 1150', 'Document 1185', 'Document 1187', 'Document 1188', 'Document 1206', 'Document 1210', 'Document 1213', 'Document 1225', 'Document 1226', 'Document 1229', 'Document 1251', 'Document 1267', 'Document 1279', 'Document 1287', 'Document 1299', 'Document 1318', 'Document 1330', 'Document 1340', 'Document 1341', 'Document 1344', 'Document 1355', 'Document 1369', 'Document 1396', 'Document 1397', 'Document 1401', 'Document 1406', 'Document 1430', 'Document 1455', 'Document 1457', 'Document 1461', 'Document 1467', 'Document 1493', 'Document 1508', 'Document 1537', 'Document 1547', 'Document 1548', 'Document 1573', 'Document 1585', 'Document 1595', 'Document 1602', 'Document 1615', 'Document 1629', 'Document 1687', 'Document 1696', 'Document 1706', 'Document 1707', 'Document 1735', 'Document 1736', 'Document 1739', 'Document 1755', 'Document 1769', 'Document 1770', 'Document 1780', 'Document 1797', 'Document 1825', 'Document 1845', 'Document 1850', 'Document 1859', 'Document 1864', 'Document 1876', 'Document 1889', 'Document 1892', 'Document 1931', 'Document 1936', 'Document 1942', 'Document 1949', 'Document 1971', 'Document 1975', 'Document 2001', 'Document 2007', 'Document 2010', 'Document 2013', 'Document 2038', 'Document 2039', 'Document 2044', 'Document 2050', 'Document 2061', 'Document 2062', 'Document 2068', 'Document 2069', 'Document 2088', 'Document 2105', 'Document 2117', 'Document 2123', 'Document 2128', 'Document 2144', 'Document 2159', 'Document 2160', 'Document 2169', 'Document 2180', 'Document 2181', 'Document 2206', 'Document 2235', 'Document 2247', 'Document 2248', 'Document 2269', 'Document 2277', 'Document 2284', 'Document 2285', 'Document 2288', 'Document 2300', 'Document 2301', 'Document 2309', 'Document 2310']\n",
      "Legal Parties and Applications: ['Document 5', 'Document 46', 'Document 57', 'Document 102', 'Document 163', 'Document 166', 'Document 171', 'Document 193', 'Document 207', 'Document 210', 'Document 228', 'Document 234', 'Document 246', 'Document 270', 'Document 288', 'Document 302', 'Document 312', 'Document 317', 'Document 335', 'Document 353', 'Document 357', 'Document 370', 'Document 434', 'Document 463', 'Document 465', 'Document 472', 'Document 486', 'Document 493', 'Document 496', 'Document 524', 'Document 535', 'Document 537', 'Document 538', 'Document 560', 'Document 563', 'Document 610', 'Document 613', 'Document 631', 'Document 652', 'Document 671', 'Document 697', 'Document 712', 'Document 724', 'Document 729', 'Document 745', 'Document 787', 'Document 800', 'Document 803', 'Document 810', 'Document 815', 'Document 850', 'Document 872', 'Document 917', 'Document 934', 'Document 935', 'Document 981', 'Document 986', 'Document 1039', 'Document 1061', 'Document 1064', 'Document 1067', 'Document 1086', 'Document 1098', 'Document 1104', 'Document 1154', 'Document 1157', 'Document 1162', 'Document 1178', 'Document 1196', 'Document 1214', 'Document 1216', 'Document 1217', 'Document 1224', 'Document 1240', 'Document 1283', 'Document 1292', 'Document 1348', 'Document 1354', 'Document 1357', 'Document 1394', 'Document 1398', 'Document 1413', 'Document 1453', 'Document 1460', 'Document 1479', 'Document 1492', 'Document 1502', 'Document 1600', 'Document 1611', 'Document 1628', 'Document 1673', 'Document 1674', 'Document 1676', 'Document 1677', 'Document 1683', 'Document 1704', 'Document 1758', 'Document 1800', 'Document 1821', 'Document 1855', 'Document 1858', 'Document 1860', 'Document 1885', 'Document 1890', 'Document 1893', 'Document 1898', 'Document 1939', 'Document 2020', 'Document 2070', 'Document 2073', 'Document 2076', 'Document 2078', 'Document 2086', 'Document 2106', 'Document 2201', 'Document 2210', 'Document 2216', 'Document 2236', 'Document 2264', 'Document 2294', 'Document 2299']\n",
      "Defendant Evidence and Legal Claims: ['Document 18', 'Document 64', 'Document 72', 'Document 77', 'Document 119', 'Document 120', 'Document 121', 'Document 123', 'Document 134', 'Document 146', 'Document 201', 'Document 229', 'Document 286', 'Document 352', 'Document 360', 'Document 362', 'Document 397', 'Document 400', 'Document 410', 'Document 430', 'Document 478', 'Document 479', 'Document 485', 'Document 494', 'Document 528', 'Document 533', 'Document 573', 'Document 616', 'Document 638', 'Document 648', 'Document 681', 'Document 683', 'Document 715', 'Document 813', 'Document 859', 'Document 920', 'Document 987', 'Document 990', 'Document 1051', 'Document 1093', 'Document 1094', 'Document 1095', 'Document 1109', 'Document 1116', 'Document 1166', 'Document 1193', 'Document 1194', 'Document 1260', 'Document 1342', 'Document 1351', 'Document 1363', 'Document 1389', 'Document 1469', 'Document 1518', 'Document 1520', 'Document 1560', 'Document 1593', 'Document 1703', 'Document 1709', 'Document 1715', 'Document 1717', 'Document 1767', 'Document 1848', 'Document 1853', 'Document 1868', 'Document 1869', 'Document 1872', 'Document 1897', 'Document 1927', 'Document 1943', 'Document 2055', 'Document 2057', 'Document 2133', 'Document 2178', 'Document 2231', 'Document 2254', 'Document 2290', 'Document 2307']\n",
      "Court Evidence and Defendant Cases: ['Document 3', 'Document 11', 'Document 45', 'Document 71', 'Document 84', 'Document 184', 'Document 190', 'Document 197', 'Document 224', 'Document 292', 'Document 387', 'Document 419', 'Document 471', 'Document 490', 'Document 527', 'Document 540', 'Document 548', 'Document 593', 'Document 625', 'Document 640', 'Document 676', 'Document 696', 'Document 754', 'Document 764', 'Document 776', 'Document 796', 'Document 873', 'Document 877', 'Document 909', 'Document 930', 'Document 992', 'Document 1056', 'Document 1057', 'Document 1127', 'Document 1180', 'Document 1181', 'Document 1208', 'Document 1269', 'Document 1284', 'Document 1296', 'Document 1362', 'Document 1384', 'Document 1403', 'Document 1465', 'Document 1485', 'Document 1501', 'Document 1505', 'Document 1544', 'Document 1551', 'Document 1557', 'Document 1576', 'Document 1598', 'Document 1720', 'Document 1752', 'Document 1773', 'Document 1815', 'Document 1818', 'Document 1820', 'Document 1823', 'Document 1830', 'Document 1846', 'Document 1881', 'Document 1918', 'Document 1959', 'Document 2004', 'Document 2006', 'Document 2045', 'Document 2047', 'Document 2084', 'Document 2094', 'Document 2100', 'Document 2125', 'Document 2135', 'Document 2139', 'Document 2153', 'Document 2279', 'Document 2298']\n",
      "Defendant Charges and Legal Applications: ['Document 95', 'Document 106', 'Document 109', 'Document 154', 'Document 176', 'Document 192', 'Document 338', 'Document 371', 'Document 495', 'Document 506', 'Document 530', 'Document 534', 'Document 558', 'Document 608', 'Document 615', 'Document 629', 'Document 636', 'Document 649', 'Document 657', 'Document 686', 'Document 688', 'Document 718', 'Document 756', 'Document 766', 'Document 775', 'Document 801', 'Document 814', 'Document 834', 'Document 869', 'Document 882', 'Document 912', 'Document 951', 'Document 972', 'Document 1084', 'Document 1087', 'Document 1102', 'Document 1108', 'Document 1141', 'Document 1156', 'Document 1171', 'Document 1220', 'Document 1234', 'Document 1235', 'Document 1265', 'Document 1289', 'Document 1328', 'Document 1333', 'Document 1368', 'Document 1377', 'Document 1463', 'Document 1500', 'Document 1532', 'Document 1574', 'Document 1619', 'Document 1645', 'Document 1694', 'Document 1700', 'Document 1724', 'Document 1782', 'Document 1796', 'Document 1805', 'Document 1810', 'Document 1841', 'Document 1870', 'Document 1933', 'Document 1947', 'Document 2008', 'Document 2114', 'Document 2141', 'Document 2145', 'Document 2146', 'Document 2185', 'Document 2212', 'Document 2234', 'Document 2245', 'Document 2289']\n",
      "Appeals and Defendant Claims: ['Document 22', 'Document 32', 'Document 88', 'Document 188', 'Document 214', 'Document 233', 'Document 273', 'Document 393', 'Document 398', 'Document 482', 'Document 531', 'Document 542', 'Document 552', 'Document 598', 'Document 601', 'Document 603', 'Document 685', 'Document 793', 'Document 794', 'Document 798', 'Document 824', 'Document 826', 'Document 828', 'Document 900', 'Document 904', 'Document 971', 'Document 998', 'Document 1046', 'Document 1062', 'Document 1092', 'Document 1100', 'Document 1121', 'Document 1164', 'Document 1182', 'Document 1305', 'Document 1379', 'Document 1411', 'Document 1414', 'Document 1424', 'Document 1439', 'Document 1452', 'Document 1513', 'Document 1525', 'Document 1538', 'Document 1546', 'Document 1627', 'Document 1664', 'Document 1740', 'Document 1756', 'Document 1768', 'Document 1778', 'Document 1802', 'Document 1812', 'Document 1826', 'Document 1861', 'Document 1905', 'Document 1922', 'Document 1940', 'Document 1972', 'Document 1989', 'Document 2011', 'Document 2037', 'Document 2134', 'Document 2148', 'Document 2189', 'Document 2203', 'Document 2213', 'Document 2214', 'Document 2219', 'Document 2270', 'Document 2304']\n",
      "Legal Applications and Arbitration: ['Document 8', 'Document 15', 'Document 47', 'Document 69', 'Document 153', 'Document 158', 'Document 212', 'Document 222', 'Document 225', 'Document 235', 'Document 241', 'Document 245', 'Document 249', 'Document 307', 'Document 319', 'Document 386', 'Document 388', 'Document 404', 'Document 407', 'Document 517', 'Document 578', 'Document 599', 'Document 633', 'Document 653', 'Document 721', 'Document 750', 'Document 762', 'Document 768', 'Document 773', 'Document 790', 'Document 844', 'Document 875', 'Document 910', 'Document 950', 'Document 964', 'Document 1044', 'Document 1133', 'Document 1218', 'Document 1263', 'Document 1335', 'Document 1338', 'Document 1371', 'Document 1404', 'Document 1419', 'Document 1435', 'Document 1496', 'Document 1497', 'Document 1510', 'Document 1526', 'Document 1563', 'Document 1586', 'Document 1589', 'Document 1610', 'Document 1649', 'Document 1761', 'Document 1888', 'Document 1895', 'Document 1934', 'Document 1973', 'Document 2014', 'Document 2019', 'Document 2024', 'Document 2079', 'Document 2150', 'Document 2183', 'Document 2261', 'Document 2265', 'Document 2292']\n",
      "Legal Rights and Court Issues: ['Document 14', 'Document 21', 'Document 35', 'Document 44', 'Document 55', 'Document 63', 'Document 79', 'Document 252', 'Document 323', 'Document 325', 'Document 342', 'Document 344', 'Document 365', 'Document 399', 'Document 401', 'Document 411', 'Document 452', 'Document 520', 'Document 521', 'Document 582', 'Document 587', 'Document 588', 'Document 656', 'Document 735', 'Document 748', 'Document 903', 'Document 906', 'Document 908', 'Document 945', 'Document 1113', 'Document 1132', 'Document 1149', 'Document 1163', 'Document 1202', 'Document 1274', 'Document 1282', 'Document 1321', 'Document 1387', 'Document 1466', 'Document 1477', 'Document 1541', 'Document 1597', 'Document 1745', 'Document 1751', 'Document 1763', 'Document 1777', 'Document 1795', 'Document 1832', 'Document 1911', 'Document 1916', 'Document 1945', 'Document 1961', 'Document 1981', 'Document 1996', 'Document 2041', 'Document 2054', 'Document 2056', 'Document 2059', 'Document 2129', 'Document 2136', 'Document 2138', 'Document 2187', 'Document 2193', 'Document 2255', 'Document 2278']\n",
      "Court Agreements and Plaintiff Claims: ['Document 41', 'Document 54', 'Document 59', 'Document 87', 'Document 156', 'Document 258', 'Document 329', 'Document 330', 'Document 442', 'Document 445', 'Document 584', 'Document 623', 'Document 627', 'Document 639', 'Document 665', 'Document 695', 'Document 749', 'Document 820', 'Document 853', 'Document 860', 'Document 911', 'Document 947', 'Document 1003', 'Document 1033', 'Document 1165', 'Document 1197', 'Document 1199', 'Document 1257', 'Document 1262', 'Document 1302', 'Document 1303', 'Document 1307', 'Document 1311', 'Document 1336', 'Document 1360', 'Document 1391', 'Document 1434', 'Document 1437', 'Document 1480', 'Document 1556', 'Document 1564', 'Document 1583', 'Document 1621', 'Document 1626', 'Document 1654', 'Document 1658', 'Document 1669', 'Document 1713', 'Document 1714', 'Document 1730', 'Document 1743', 'Document 1776', 'Document 1837', 'Document 1955', 'Document 1980', 'Document 1991', 'Document 2080', 'Document 2091', 'Document 2095', 'Document 2102', 'Document 2131', 'Document 2149', 'Document 2170', 'Document 2233']\n",
      "Court Decisions and Company Matters: ['Document 128', 'Document 148', 'Document 200', 'Document 253', 'Document 255', 'Document 256', 'Document 359', 'Document 364', 'Document 383', 'Document 389', 'Document 409', 'Document 455', 'Document 456', 'Document 468', 'Document 512', 'Document 532', 'Document 551', 'Document 569', 'Document 581', 'Document 669', 'Document 680', 'Document 690', 'Document 693', 'Document 694', 'Document 705', 'Document 716', 'Document 805', 'Document 832', 'Document 854', 'Document 867', 'Document 868', 'Document 881', 'Document 961', 'Document 993', 'Document 1006', 'Document 1007', 'Document 1090', 'Document 1136', 'Document 1191', 'Document 1236', 'Document 1326', 'Document 1409', 'Document 1415', 'Document 1522', 'Document 1591', 'Document 1596', 'Document 1726', 'Document 1783', 'Document 1792', 'Document 1803', 'Document 1819', 'Document 1834', 'Document 1902', 'Document 1928', 'Document 1958', 'Document 1974', 'Document 1987', 'Document 2017', 'Document 2099', 'Document 2118', 'Document 2176', 'Document 2238', 'Document 2244', 'Document 2260']\n"
     ]
    }
   ],
   "source": [
    "\n",
    "with open('labeled_document_topic_test.json', 'r') as file:\n",
    "    document_topic = json.load(file)\n",
    "\n",
    "# Step 3: Organize documents under their respective top ten topics\n",
    "topics_documents = {topic: [] for topic in top_ten_topics}  # Initialize a dictionary for the top ten topics\n",
    "\n",
    "for doc_id, topic in document_topic.items():\n",
    "    if topic in top_ten_topics:\n",
    "        topics_documents[topic].append(doc_id)  # Add document under its topic\n",
    "\n",
    "# Print the categorized documents\n",
    "for topic, docs in topics_documents.items():\n",
    "    print(f\"{topic}: {docs}\")"
   ]
  },
  {
   "cell_type": "code",
   "execution_count": 8,
   "metadata": {},
   "outputs": [
    {
     "name": "stderr",
     "output_type": "stream",
     "text": [
      "/opt/homebrew/lib/python3.11/site-packages/spacy/util.py:910: UserWarning: [W095] Model 'en_legal_ner_trf' (3.2.0) was trained with spaCy v3.2.2 and may not be 100% compatible with the current version (3.7.4). If you see errors or degraded performance, download a newer compatible model or retrain your custom model with the current spaCy version. For more details and available updates, run: python -m spacy validate\n",
      "  warnings.warn(warn_msg)\n",
      "/opt/homebrew/lib/python3.11/site-packages/transformers/utils/generic.py:309: UserWarning: torch.utils._pytree._register_pytree_node is deprecated. Please use torch.utils._pytree.register_pytree_node instead.\n",
      "  _torch_pytree._register_pytree_node(\n",
      "/opt/homebrew/lib/python3.11/site-packages/spacy_transformers/layers/hf_shim.py:137: UserWarning: Error loading saved torch state_dict with strict=True, likely due to differences between 'transformers' versions. Attempting to load with strict=False as a fallback...\n",
      "\n",
      "If you see errors or degraded performance, download a newer compatible model or retrain your custom model with the current 'transformers' and 'spacy-transformers' versions. For more details and available updates, run: python -m spacy validate\n",
      "  warnings.warn(warn_msg)\n"
     ]
    }
   ],
   "source": [
    "import pandas as pd\n",
    "import spacy\n",
    "import spacy_transformers\n",
    "\n",
    "# Load the CSV file\n",
    "df = pd.read_csv(\"../sectionized_data.csv\")\n",
    "df = df.dropna()\n",
    "\n",
    "# Load the NER file\n",
    "ner_model_path = '../model_ner'\n",
    "nlp = spacy.load(ner_model_path)"
   ]
  },
  {
   "cell_type": "code",
   "execution_count": 9,
   "metadata": {},
   "outputs": [],
   "source": [
    "from collections import Counter\n",
    "\n",
    "def get_document_text(doc_id):  \n",
    "    index = int(doc_id.split(' ')[1]) \n",
    "    return df.iloc[index]['Body']"
   ]
  },
  {
   "cell_type": "markdown",
   "metadata": {},
   "source": [
    "EXTRACTING ONLY THE COURT LABEL"
   ]
  },
  {
   "cell_type": "code",
   "execution_count": 29,
   "metadata": {},
   "outputs": [
    {
     "name": "stderr",
     "output_type": "stream",
     "text": [
      "/opt/homebrew/lib/python3.11/site-packages/spacy/util.py:910: UserWarning: [W095] Model 'en_legal_ner_trf' (3.2.0) was trained with spaCy v3.2.2 and may not be 100% compatible with the current version (3.7.4). If you see errors or degraded performance, download a newer compatible model or retrain your custom model with the current spaCy version. For more details and available updates, run: python -m spacy validate\n",
      "  warnings.warn(warn_msg)\n",
      "/opt/homebrew/lib/python3.11/site-packages/spacy_transformers/layers/hf_shim.py:137: UserWarning: Error loading saved torch state_dict with strict=True, likely due to differences between 'transformers' versions. Attempting to load with strict=False as a fallback...\n",
      "\n",
      "If you see errors or degraded performance, download a newer compatible model or retrain your custom model with the current 'transformers' and 'spacy-transformers' versions. For more details and available updates, run: python -m spacy validate\n",
      "  warnings.warn(warn_msg)\n"
     ]
    },
    {
     "name": "stdout",
     "output_type": "stream",
     "text": [
      "Data written to top_ten_topics_most_frequent_court_entities.json\n"
     ]
    }
   ],
   "source": [
    "all_topics_output = []\n",
    "\n",
    "for top_topic in top_ten_topics:\n",
    "    court_entities = []\n",
    "    for doc_id in topics_documents[top_topic]:\n",
    "        doc_text = get_document_text(doc_id)\n",
    "        doc = nlp(doc_text)\n",
    "        court_entities.extend([ent.text for ent in doc.ents if ent.label_ == \"COURT\"])\n",
    "\n",
    "    # Find the most frequently occurring entities for the current topic\n",
    "    court_entities_counts = Counter(court_entities)\n",
    "    if court_entities_counts:\n",
    "        max_count = max(court_entities_counts.values())\n",
    "        # Keep only entities with the highest count\n",
    "        most_frequent_entities = {entity: count for entity, count in court_entities_counts.items() if count == max_count}\n",
    "    else:\n",
    "        most_frequent_entities = {}\n",
    "\n",
    "    # Append to the overall output\n",
    "    all_topics_output.append({\n",
    "        \"Topic\": top_topic,\n",
    "        \"Most Frequent COURT Entities\": most_frequent_entities\n",
    "    })\n",
    "\n",
    "# Format for output\n",
    "output_structure = {\n",
    "    \"Topics\": all_topics_output\n",
    "}\n",
    "\n",
    "output_file_path = 'top_ten_topics_most_frequent_court_entities.json'\n",
    "\n",
    "# Write the formatted data to a JSON file\n",
    "with open(output_file_path, 'w') as file:\n",
    "    json.dump(output_structure, file, indent=2)\n",
    "\n",
    "print(f\"Data written to {output_file_path}\")\n"
   ]
  },
  {
   "cell_type": "code",
   "execution_count": 30,
   "metadata": {},
   "outputs": [
    {
     "name": "stdout",
     "output_type": "stream",
     "text": [
      "Top COURT Entities for the top ten topics\n",
      "High Court Judgments and Appeals: [Siglap Court, Supreme Court, Singapore Courts]\n",
      "Legal Parties and Applications: [KLHC]\n",
      "Defendant Evidence and Legal Claims: [IAC]\n",
      "Court Evidence and Defendant Cases: [IAC, Supreme Court of Singapore]\n",
      "Defendant Charges and Legal Applications: [IAC, Paris Commercial Court, RCA]\n",
      "Appeals and Defendant Claims: [JVA]\n",
      "Legal Applications and Arbitration: [IAC]\n",
      "Legal Rights and Court Issues: [LA]\n",
      "Court Agreements and Plaintiff Claims: [DT]\n",
      "Court Decisions and Company Matters: [IJ]\n"
     ]
    }
   ],
   "source": [
    "input_file_path = 'top_ten_topics_most_frequent_court_entities.json'\n",
    "\n",
    "# Load the JSON data from the file\n",
    "with open(input_file_path, 'r') as file:\n",
    "    data = json.load(file)\n",
    "\n",
    "print(\"Top COURT Entities for the top ten topics\")\n",
    "\n",
    "for topic_info in data[\"Topics\"]:\n",
    "    topic_name = topic_info[\"Topic\"]\n",
    "    entities = list(topic_info[\"Most Frequent COURT Entities\"].keys())\n",
    "    entities_str = ', '.join(entities)\n",
    "    print(f\"{topic_name}: [{entities_str}]\")\n"
   ]
  },
  {
   "cell_type": "markdown",
   "metadata": {},
   "source": [
    "EXTRACT ACROSS ALL NER LEGAL ENTITIES"
   ]
  },
  {
   "cell_type": "code",
   "execution_count": 37,
   "metadata": {},
   "outputs": [
    {
     "name": "stdout",
     "output_type": "stream",
     "text": [
      "Data written to top_ten_topics_most_frequent_entities_by_label.json\n"
     ]
    }
   ],
   "source": [
    "all_topics_output_for_all_entities = []\n",
    "\n",
    "specified_labels = [\"PRECEDENT\", \"LAWYER\", \"JUDGE\", \"RESPONDENT\", \"GPE\",\n",
    "                    \"OTHER_PERSON\", \"PROVISION\", \"ORG\", \"PETITIONER\",\n",
    "                    \"WITNESS\", \"COURT\", \"STATUTE\"]\n",
    "\n",
    "for top_topic in top_ten_topics:\n",
    "    entities_by_label = {label: [] for label in specified_labels}\n",
    "    for doc_id in topics_documents[top_topic]:\n",
    "        doc_text = get_document_text(doc_id)\n",
    "        doc = nlp(doc_text)\n",
    "        for ent in doc.ents:\n",
    "            if ent.label_ in specified_labels:\n",
    "                entities_by_label[ent.label_].append(ent.text)\n",
    "    \n",
    "    # For each label, find the most frequent entity/entities\n",
    "    most_frequent_entities_by_label = {\n",
    "        label: Counter(entities).most_common(1) for label, entities in entities_by_label.items() if entities\n",
    "    }\n",
    "\n",
    "    # Append to the overall output\n",
    "    all_topics_output_for_all_entities.append({\n",
    "        \"Topic\": top_topic,\n",
    "        \"Most Frequent Entities by Label\": most_frequent_entities_by_label\n",
    "    })\n",
    "\n",
    "# Format for output\n",
    "output_structure = {\n",
    "    \"Topics\": all_topics_output_for_all_entities\n",
    "}\n",
    "\n",
    "output_file_path = 'top_ten_topics_most_frequent_entities_by_label.json'\n",
    "\n",
    "# Write the formatted data to a JSON file\n",
    "with open(output_file_path, 'w') as file:\n",
    "    json.dump(output_structure, file, indent=2)\n",
    "\n",
    "print(f\"Data written to {output_file_path}\")"
   ]
  },
  {
   "cell_type": "code",
   "execution_count": 45,
   "metadata": {},
   "outputs": [
    {
     "name": "stdout",
     "output_type": "stream",
     "text": [
      "Top Entities by Specified Labels for the Top Ten Topics\n",
      "\n",
      "High Court Judgments and Appeals:\n",
      "  PRECEDENT: Dodds v Dodds (4)\n",
      "  LAWYER: Yeo Alvin (2)\n",
      "  JUDGE: Chan (5)\n",
      "  RESPONDENT: Liberty Engineering Group Pte Ltd (3)\n",
      "  GPE: Singapore (65)\n",
      "  OTHER_PERSON: Eugene (70)\n",
      "  PROVISION: s 73B (21)\n",
      "  ORG: LPG (66)\n",
      "  PETITIONER: TNK (4)\n",
      "  WITNESS: TNK (2)\n",
      "  COURT: Siglap Court (3)\n",
      "  STATUTE: IRDA (35)\n",
      "\n",
      "Legal Parties and Applications:\n",
      "  PRECEDENT: Mercator & Noordstar NV v Velstra Pte Ltd (2)\n",
      "  LAWYER: Tay\" (2)\n",
      "  JUDGE: Fox (2)\n",
      "  RESPONDENT: Credit Suisse AG (4)\n",
      "  GPE: Singapore (19)\n",
      "  OTHER_PERSON: Peh (48)\n",
      "  PROVISION: Suit 267 (11)\n",
      "  ORG: LPG (93)\n",
      "  PETITIONER: Hyflux Ltd (2)\n",
      "  WITNESS: Ramalingam (8)\n",
      "  COURT: KLHC (12)\n",
      "  STATUTE: SOPA (24)\n",
      "\n",
      "Defendant Evidence and Legal Claims:\n",
      "  PRECEDENT: Oro Negro Drilling Pte Ltd and others v Integradora de Servicios Petroleros Oro Negro SAPI de CV and others (2)\n",
      "  LAWYER: Song Yihang (1)\n",
      "  JUDGE: Choo Han Teck (3)\n",
      "  RESPONDENT: PayPal Pte Ltd (1)\n",
      "  GPE: Singapore (32)\n",
      "  OTHER_PERSON: Murjani (25)\n",
      "  PROVISION: s 78(1)(a) (6)\n",
      "  ORG: GP Global (25)\n",
      "  PETITIONER: D.N.G FZE (1)\n",
      "  WITNESS: Malek (2)\n",
      "  COURT: IAC (4)\n",
      "  STATUTE: IRDA (13)\n",
      "\n",
      "Court Evidence and Defendant Cases:\n",
      "  PRECEDENT: CIFG Special Assets Capital I Ltd (formerly known as Diamond Kendall Ltd) v Polimet Pte Ltd and others [2016] 1 SLR 1382 at [75] (1)\n",
      "  LAWYER: Lim\" (1)\n",
      "  JUDGE: Rajah (3)\n",
      "  RESPONDENT: Lim Ing Haan (1)\n",
      "  GPE: Singapore (26)\n",
      "  OTHER_PERSON: Manoj (79)\n",
      "  PROVISION: s 92 (18)\n",
      "  ORG: LPG (21)\n",
      "  PETITIONER: Narayanan Sreenivasan (1)\n",
      "  WITNESS: Parno (4)\n",
      "  COURT: IAC (4)\n",
      "  STATUTE: SAA (14)\n",
      "\n",
      "Defendant Charges and Legal Applications:\n",
      "  PRECEDENT: Rubin and another v Eurofinance SA and others [2011] 2 WLR 121 (1)\n",
      "  LAWYER: Nikhil Daniel Angappan (1)\n",
      "  JUDGE: Chan (6)\n",
      "  RESPONDENT: Renslade (2)\n",
      "  GPE: Singapore (19)\n",
      "  OTHER_PERSON: Budhrani (36)\n",
      "  PROVISION: s 73B (12)\n",
      "  ORG: LPQ (25)\n",
      "  PETITIONER: Madam Wong Moy (1)\n",
      "  WITNESS: Sia (10)\n",
      "  COURT: IAC (2)\n",
      "  STATUTE: CPC (9)\n",
      "\n",
      "Appeals and Defendant Claims:\n",
      "  PRECEDENT: Teo Wai Cheong v Credit Industriel et Commercial and another appeal [2013] 3 SLR 573 (1)\n",
      "  LAWYER: Ng Cheah Siew Shelin (1)\n",
      "  JUDGE: Williams (2)\n",
      "  RESPONDENT: Prudential Assurance Company Singapore (Pte) Ltd (1)\n",
      "  GPE: Singapore (25)\n",
      "  OTHER_PERSON: Lim (40)\n",
      "  PROVISION: s 91(3)(d) (23)\n",
      "  ORG: Frankel Motor (18)\n",
      "  PETITIONER: Yeo Kee Siah (1)\n",
      "  WITNESS: Ho (1)\n",
      "  COURT: JVA (8)\n",
      "  STATUTE: IRDA (34)\n",
      "\n",
      "Legal Applications and Arbitration:\n",
      "  PRECEDENT: Brett LJ in Jones v The Monte Video Gas Company (1880) 5 QBD 556 at 558 (1)\n",
      "  LAWYER: Foo Soon Yien (1)\n",
      "  JUDGE: Choo Han Teck (4)\n",
      "  RESPONDENT: Bank of China (1)\n",
      "  GPE: Singapore (18)\n",
      "  OTHER_PERSON: Tjandra (39)\n",
      "  PROVISION: s 511 (9)\n",
      "  ORG: LSH (24)\n",
      "  PETITIONER: DBS Autosave account (1)\n",
      "  WITNESS: Cheng (3)\n",
      "  COURT: IAC (4)\n",
      "  STATUTE: ETA (14)\n",
      "\n",
      "Legal Rights and Court Issues:\n",
      "  PRECEDENT: Suntech Power Investment Pte Ltd v Power Solar System Co Ltd (in liquidation) [2019] 2 SLR 564 (\"Suntech (1)\n",
      "  JUDGE: Kannan Ramesh (2)\n",
      "  RESPONDENT: Neptun (2)\n",
      "  GPE: Singapore (23)\n",
      "  OTHER_PERSON: Budhrani (50)\n",
      "  PROVISION: AD 122 (7)\n",
      "  ORG: INTL FCStone (17)\n",
      "  PETITIONER: Munshi (2)\n",
      "  WITNESS: Ho (4)\n",
      "  COURT: LA (3)\n",
      "  STATUTE: SAA (18)\n",
      "\n",
      "Court Agreements and Plaintiff Claims:\n",
      "  PRECEDENT: Yeo Su Lan (alias Yang Shulan) v Hong Thomas and others [2023] SGHC 44 (1)\n",
      "  LAWYER: Ian Brownlie (1)\n",
      "  JUDGE: Chong (2)\n",
      "  RESPONDENT: Ng Yau Yee Theresa (1)\n",
      "  GPE: Singapore (9)\n",
      "  OTHER_PERSON: Mdm Tan (43)\n",
      "  PROVISION: SUM 346 (14)\n",
      "  ORG: LPG (17)\n",
      "  PETITIONER: Victory (1)\n",
      "  COURT: DT (4)\n",
      "  STATUTE: IRDA (11)\n",
      "\n",
      "Court Decisions and Company Matters:\n",
      "  PRECEDENT: Mendel See (HC) (5)\n",
      "  LAWYER: Manoj and (2)\n",
      "  JUDGE: Pang Khang Chau (2)\n",
      "  RESPONDENT: Arokiasamy Steven Joseph (1)\n",
      "  GPE: Singapore (14)\n",
      "  OTHER_PERSON: Sianto (53)\n",
      "  PROVISION: s 116 (9)\n",
      "  ORG: BCS (48)\n",
      "  PETITIONER: Staghorn Singapore (1)\n",
      "  WITNESS: Ho (1)\n",
      "  COURT: IJ (2)\n",
      "  STATUTE: RCA (10)\n"
     ]
    }
   ],
   "source": [
    "all_entities_input_file_path = 'top_ten_topics_most_frequent_entities_by_label.json'\n",
    "\n",
    "with open(all_entities_input_file_path, 'r') as file:\n",
    "    data = json.load(file)\n",
    "\n",
    "print(\"Top Entities by Specified Labels for the Top Ten Topics\")\n",
    "\n",
    "for topic_info in data[\"Topics\"]:\n",
    "    topic_name = topic_info[\"Topic\"]\n",
    "    print(f\"\\n{topic_name}:\")\n",
    "    for label, entities in topic_info[\"Most Frequent Entities by Label\"].items():\n",
    "        entities_str = ', '.join([f\"{ent[0]} ({ent[1]})\" for ent in entities])\n",
    "        print(f\"  {label}: {entities_str}\")"
   ]
  },
  {
   "cell_type": "markdown",
   "metadata": {},
   "source": [
    "Save it into a json file\n"
   ]
  },
  {
   "cell_type": "code",
   "execution_count": 46,
   "metadata": {},
   "outputs": [
    {
     "name": "stdout",
     "output_type": "stream",
     "text": [
      "Data written to formatted_top_ten_topics_most_frequent_entities_by_label.json\n"
     ]
    }
   ],
   "source": [
    "\n",
    "# Initialize a list to hold the formatted data\n",
    "formatted_data = []\n",
    "\n",
    "for topic_info in data[\"Topics\"]:\n",
    "    topic_name = topic_info[\"Topic\"]\n",
    "    topic_dict = {\"Topic\": topic_name, \"Entities\": {}}\n",
    "    \n",
    "    for label, entities in topic_info[\"Most Frequent Entities by Label\"].items():\n",
    "        # Create a string representation for each entity and its count\n",
    "        entities_dict = {ent[0]: ent[1] for ent in entities}\n",
    "        topic_dict[\"Entities\"][label] = entities_dict\n",
    "    \n",
    "    formatted_data.append(topic_dict)\n",
    "\n",
    "# Specify the new output file path for the formatted data\n",
    "output_file_path = 'formatted_top_ten_topics_most_frequent_entities_by_label.json'\n",
    "\n",
    "# Write the formatted data to a JSON file\n",
    "with open(output_file_path, 'w') as file:\n",
    "    json.dump(formatted_data, file, indent=2)\n",
    "\n",
    "print(f\"Data written to {output_file_path}\")\n"
   ]
  }
 ],
 "metadata": {
  "kernelspec": {
   "display_name": "Python 3",
   "language": "python",
   "name": "python3"
  },
  "language_info": {
   "codemirror_mode": {
    "name": "ipython",
    "version": 3
   },
   "file_extension": ".py",
   "mimetype": "text/x-python",
   "name": "python",
   "nbconvert_exporter": "python",
   "pygments_lexer": "ipython3",
   "version": "3.11.8"
  }
 },
 "nbformat": 4,
 "nbformat_minor": 2
}
